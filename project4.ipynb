{
  "nbformat": 4,
  "nbformat_minor": 0,
  "metadata": {
    "colab": {
      "provenance": [],
      "authorship_tag": "ABX9TyNqY0v7GQb089xjXVF8jdl3",
      "include_colab_link": true
    },
    "kernelspec": {
      "name": "python3",
      "display_name": "Python 3"
    },
    "language_info": {
      "name": "python"
    }
  },
  "cells": [
    {
      "cell_type": "markdown",
      "metadata": {
        "id": "view-in-github",
        "colab_type": "text"
      },
      "source": [
        "<a href=\"https://colab.research.google.com/github/Divyasri-062008/CODSOFT/blob/main/project4.ipynb\" target=\"_parent\"><img src=\"https://colab.research.google.com/assets/colab-badge.svg\" alt=\"Open In Colab\"/></a>"
      ]
    },
    {
      "cell_type": "code",
      "execution_count": 12,
      "metadata": {
        "colab": {
          "base_uri": "https://localhost:8080/"
        },
        "id": "mQs7DHwzE7u8",
        "outputId": "7b39b875-05cb-4f3c-d4ea-fd7dd4e0a94a"
      },
      "outputs": [
        {
          "output_type": "stream",
          "name": "stdout",
          "text": [
            "User ID:  1\n",
            "Item ID:  034545104X\n",
            "Item ID:  0155061224\n",
            "Item ID:  0446520802\n",
            "Item ID:  052165615X\n",
            "Item ID:  0521795028\n",
            "Item ID:  2080674722\n",
            "Item ID:  3257224281\n",
            "Item ID:  0600570967\n",
            "Item ID:  038550120X\n",
            "Item ID:  342310538\n",
            "\n",
            "\n"
          ]
        }
      ],
      "source": [
        "import pandas as pd\n",
        "import numpy as np\n",
        "from collections import defaultdict\n",
        "\n",
        "# Load the Book-Crossing dataset\n",
        "ratings = pd.read_csv('Ratings.csv', sep=';', encoding='latin-1')\n",
        "\n",
        "# Create a dictionary to store the user-item ratings\n",
        "user_item_ratings = defaultdict(dict)\n",
        "for index, row in ratings.iterrows():\n",
        "    user_id = row['User-ID']\n",
        "    item_id = row['ISBN']\n",
        "    rating = row['Rating']\n",
        "    user_item_ratings[user_id][item_id] = rating\n",
        "\n",
        "# Collaborative filtering\n",
        "def get_similar_users(user_id, n=10):\n",
        "    similar_users = []\n",
        "    for other_user_id in list(user_item_ratings.keys()):\n",
        "        if other_user_id != user_id:\n",
        "            similarity = 0\n",
        "            for item_id in user_item_ratings[user_id]:\n",
        "                if item_id in user_item_ratings[other_user_id]:\n",
        "                    similarity += 1\n",
        "            similar_users.append((other_user_id, similarity))\n",
        "    similar_users.sort(key=lambda x: x[1], reverse=True)\n",
        "    return similar_users[:n]\n",
        "\n",
        "def get_recommendations(user_id, n=10):\n",
        "    similar_users = get_similar_users(user_id, n=10)\n",
        "    recommendations = defaultdict(int)\n",
        "    for similar_user_id, similarity in similar_users:\n",
        "        for item_id in user_item_ratings[similar_user_id]:\n",
        "            if item_id not in user_item_ratings[user_id]:\n",
        "                recommendations[item_id] += similarity\n",
        "    recommendations = sorted(recommendations.items(), key=lambda x: x[1], reverse=True)\n",
        "    return recommendations[:n]\n",
        "\n",
        "# Hybrid recommendation system\n",
        "def get_hybrid_recommendations(user_id, n=10):\n",
        "    cf_recommendations = get_recommendations(user_id, n=10)\n",
        "    return cf_recommendations\n",
        "\n",
        "# Get the hybrid recommendations for a user\n",
        "user_id = 1\n",
        "hybrid_recommendations = get_hybrid_recommendations(user_id, n=10)\n",
        "\n",
        "# Print the hybrid recommendations\n",
        "print(\"User ID: \", user_id)\n",
        "for item_id, _ in hybrid_recommendations:\n",
        "    print(\"Item ID: \", item_id)\n",
        "print(\"\\n\")"
      ]
    }
  ]
}