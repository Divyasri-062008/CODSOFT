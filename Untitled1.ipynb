{
  "nbformat": 4,
  "nbformat_minor": 0,
  "metadata": {
    "colab": {
      "provenance": [],
      "authorship_tag": "ABX9TyOc1yL/KDTZ+Mjs6/gnZC7B",
      "include_colab_link": true
    },
    "kernelspec": {
      "name": "python3",
      "display_name": "Python 3"
    },
    "language_info": {
      "name": "python"
    }
  },
  "cells": [
    {
      "cell_type": "markdown",
      "metadata": {
        "id": "view-in-github",
        "colab_type": "text"
      },
      "source": [
        "<a href=\"https://colab.research.google.com/github/Divyasri-062008/CODSOFT/blob/main/Untitled1.ipynb\" target=\"_parent\"><img src=\"https://colab.research.google.com/assets/colab-badge.svg\" alt=\"Open In Colab\"/></a>"
      ]
    },
    {
      "cell_type": "code",
      "execution_count": 1,
      "metadata": {
        "colab": {
          "base_uri": "https://localhost:8080/"
        },
        "id": "GhK9IFW4gJF2",
        "outputId": "1ab6fff8-aeb2-45b2-f2bb-1c70e0992596"
      },
      "outputs": [
        {
          "output_type": "stream",
          "name": "stdout",
          "text": [
            "Chatbot: Hello! I'm here to assist you. Type 'bye' to end the conversation.\n",
            "You: hello\n",
            "Chatbot: Hello! How can I assist you today?\n",
            "You: how are you\n",
            "Chatbot: I'm just a program, but I'm functioning as expected! How about you?\n",
            "You: what is your name\n",
            "Chatbot: I'm a simple chatbot created to assist you.\n",
            "You: tell me about codsoft\n",
            "Chatbot: CODSOFT is a vibrant and diverse community that brings together individuals with similar objectives and ultimate goals.\n",
            "You: bye\n",
            "Chatbot: Goodbye! Have a nice day!\n"
          ]
        }
      ],
      "source": [
        "def chatbot(myinput):\n",
        "\n",
        "    myinput = myinput.lower()\n",
        "\n",
        "\n",
        "    if \"hello\" in myinput or \"hi\" in myinput:\n",
        "        return \"Hello! How can I assist you today?\"\n",
        "    elif \"how are you\" in myinput:\n",
        "        return \"I'm just a program, but I'm functioning as expected! How about you?\"\n",
        "    elif \"what is your name\" in myinput or \"who are you\" in myinput:\n",
        "        return \"I'm a simple chatbot created to assist you.\"\n",
        "    elif \"tell me about codsoft\" in myinput or \"codsoft company\" in myinput:\n",
        "        return \"CODSOFT is a vibrant and diverse community that brings together individuals with similar objectives and ultimate goals.\"\n",
        "    elif \"what is the main aim of it\"in myinput or \"what is the main goal of the it\" in myinput:\n",
        "        return \"CODSOFT main focus is on creating opportunities that span various areas, including leadership development, learning, student engagement, and fostering shared interests.\"\n",
        "\n",
        "    elif \"bye\" in myinput or \"goodbye\" in myinput:\n",
        "        return \"Goodbye! Have a great day!\"\n",
        "    elif \"thank you\" in myinput or \"thanks\" in myinput:\n",
        "        return \"You're welcome!\"\n",
        "    elif \"help\" in myinput:\n",
        "        return \"Sure, I am here to assist you. You can ask me anything!\"\n",
        "    else:\n",
        "        return \"Sorry, I didn't quite understand that. Can you please rephrase?\"\n",
        "\n",
        "\n",
        "if __name__ == \"__main__\":\n",
        "    print(\"Chatbot: Hello! I'm here to assist you. Type 'bye' to end the conversation.\")\n",
        "    while True:\n",
        "        myinput = input(\"You: \")\n",
        "        if \"bye\" in myinput.lower():\n",
        "            print(\"Chatbot: Goodbye! Have a nice day!\")\n",
        "            break\n",
        "        response = chatbot(myinput)\n",
        "        print(f\"Chatbot: {response}\")\n"
      ]
    }
  ]
}